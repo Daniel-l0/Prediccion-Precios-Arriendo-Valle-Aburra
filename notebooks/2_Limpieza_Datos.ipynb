{
 "cells": [
  {
   "cell_type": "markdown",
   "metadata": {},
   "source": [
    "# Limpieza de Datos\n",
    "\n",
    "En este notebook, realizaremos la limpieza y preprocesamiento de los datos extraídos de la API de Finca Raíz. Esto incluye la eliminación de valores nulos, la conversión de tipos de datos y la creación de nuevas características que serán útiles para el modelado."
   ]
  },
  {
   "cell_type": "code",
   "execution_count": null,
   "metadata": {},
   "outputs": [],
   "source": [
    "# Importar librerías necesarias\n",
    "# -*- coding: utf-8 -*-\n",
    "import pandas as pd\n",
    "\n",
    "from sklearn.impute import KNNImputer\n",
    "import re\n",
    "from datetime import datetime\n",
    "from ast import literal_eval\n",
    "from sklearn.preprocessing import MultiLabelBinarizer\n",
    "import unicodedata\n",
    "from textblob import TextBlob\n",
    "import unidecode \n",
    "import numpy as np\n",
    "from datetime import datetime\n",
    "\n",
    "\n",
    "# Cargar datos crudos\n",
    "raw_data_path = '../data/raw/propiedades_fincaraiz_completas.csv'   #'..data/processed/data_arriendos_model.xlsx'  \n",
    "df_arriendos = pd.read_csv(raw_data_path, sep=';', encoding='utf-8-sig')\n",
    "\n",
    "# Mostrar las primeras filas del conjunto de datos\n",
    "df_arriendos.head()"
   ]
  },
  {
   "cell_type": "code",
   "execution_count": null,
   "metadata": {},
   "outputs": [],
   "source": [
    "# Eliminar donde departamento es diferente de antioquia\n",
    "df_arriendos = df_arriendos[df_arriendos['departamento'] == 'Antioquia']\n",
    "\n",
    "#Filtra los datos que tengan un precio mayor a 50000000\n",
    "df_arriendos = df_arriendos[df_arriendos['precio'] <= 50000000]\n",
    "\n",
    "\n",
    "## Si estrato es 100 es campestre se puede reemplazar por 3, \n",
    "# si es 110 son 'sin definir' se puede reemplazar por na, \n",
    "# los de 0 se pueden reemplazar por np.nan\n",
    "\n",
    "df_arriendos['estrato'] = df_arriendos['estrato'].replace(100, 3)\n",
    "df_arriendos['estrato'] = df_arriendos['estrato'].replace(110, np.nan)\n",
    "df_arriendos['estrato'] = df_arriendos['estrato'].replace(0, np.nan)\n",
    "\n",
    "# Remplazar antiguedad null por \"no disponible\"\n",
    "df_arriendos['antigüedad'] = df_arriendos['antigüedad'].fillna('No disponible')"
   ]
  },
  {
   "cell_type": "code",
   "execution_count": null,
   "metadata": {},
   "outputs": [],
   "source": [
    "# Eliminar duplicados, nulos en precio, columnas no utiles, limpia el dataset, organizar tipos\n",
    "\n",
    "df_arriendos = df_arriendos.drop(columns=['redes_sociales', 'video', 'telefono', 'direccion_propietario', 'tipo_propietario', 'propietario',\n",
    "                                          'url_anuncio', 'imagenes','moneda', 'direccion', 'id', 'titulo', 'departamento', 'barrio'])\n",
    "df_arriendos = df_arriendos.dropna(subset=['precio'])"
   ]
  },
  {
   "cell_type": "code",
   "execution_count": null,
   "metadata": {},
   "outputs": [],
   "source": [
    "# Función para limpiar y convertir a numérico\n",
    "def limpiar_area(valor):\n",
    "    if isinstance(valor, str):  # Verificar si es un string\n",
    "        valor = valor.replace(\" m2\", \"\").strip()  # Eliminar el texto \"m2\" y espacios adicionales\n",
    "        return pd.to_numeric(valor, errors='coerce')  # Convertir a float, dejando NaN si falla\n",
    "    return valor  # Devolver sin cambios si ya es numérico o NaN\n",
    "\n",
    "# Aplicar la limpieza a las columnas de área\n",
    "df_arriendos['area_construida_m2'] = df_arriendos['area_construida_m2'].apply(limpiar_area)\n",
    "df_arriendos['area_privada_m2'] = df_arriendos['area_privada_m2'].apply(limpiar_area)"
   ]
  },
  {
   "cell_type": "code",
   "execution_count": null,
   "metadata": {},
   "outputs": [],
   "source": [
    "# Filtrar na de area_construida_m2\n",
    "df_arriendos = df_arriendos.dropna(subset=['area_construida_m2'])\n",
    "\n",
    "# Remplazar los valores de area_privada_m2 que sean na por el valor de area_construida_m2\n",
    "df_arriendos.loc[df_arriendos['area_privada_m2'].isna(), 'area_privada_m2'] = df_arriendos['area_construida_m2']\n",
    "\n",
    "# Para habitaciones de mas de 5 el area debe ser mayor a habitaciones*10\n",
    "df_arriendos = df_arriendos[~((df_arriendos['habitaciones'] > 5) & (df_arriendos['area_construida_m2'] < df_arriendos['habitaciones']*10))]\n"
   ]
  },
  {
   "cell_type": "code",
   "execution_count": null,
   "metadata": {},
   "outputs": [],
   "source": [
    "#Eliminar precios  menores o iguales a 500 mil\n",
    "df_arriendos = df_arriendos[df_arriendos['precio'] >= 500000]\n",
    "\n",
    "#Reemplazar baños y habitaciones en cero por np.nan\n",
    "df_arriendos['baños'] = df_arriendos['baños'].replace(0, np.nan)\n",
    "df_arriendos['habitaciones'] = df_arriendos['habitaciones'].replace(0, np.nan)\n",
    "\n",
    "# Eliminar área construida menor a 9 m2\n",
    "df_arriendos = df_arriendos[df_arriendos['area_construida_m2'] >= 9]\n",
    "\n",
    "#Eliminar área privada menor a 30 m2\n",
    "df_arriendos = df_arriendos[df_arriendos['area_privada_m2'] >= 9]\n",
    "\n",
    "#Si el area privada es mayor al area construida se reemplaza el area construida por el area privada\n",
    "df_arriendos['area_construida_m2'] = np.where(df_arriendos['area_construida_m2'] < df_arriendos['area_privada_m2'], df_arriendos['area_privada_m2'], df_arriendos['area_construida_m2'])\n",
    "\n",
    "#Si el area privada es menos de la mitad del area construida se reemplaza el area privada por el area construida\n",
    "df_arriendos['area_privada_m2'] = np.where(df_arriendos['area_privada_m2'] < df_arriendos['area_construida_m2']/2, df_arriendos['area_construida_m2'], df_arriendos['area_privada_m2'])"
   ]
  },
  {
   "cell_type": "code",
   "execution_count": null,
   "metadata": {},
   "outputs": [],
   "source": [
    "#Si pisos_edificio es 0 y piso_ubicacion >0 entonces colocar piso ubicación \n",
    "df_arriendos['pisos_edificio'] = np.where((df_arriendos['pisos_edificio'] == 0) & (df_arriendos['piso_ubicacion'] > 0), df_arriendos['piso_ubicacion'], df_arriendos['pisos_edificio'])\n",
    "\n",
    "# Si ambos son 0 colocar 1 en ambos\n",
    "df_arriendos['pisos_edificio'] = np.where((df_arriendos['pisos_edificio'] == 0) & (df_arriendos['piso_ubicacion'] == 0), 1, df_arriendos['pisos_edificio'])\n",
    "df_arriendos['piso_ubicacion'] = np.where((df_arriendos['pisos_edificio'] == 0) & (df_arriendos['piso_ubicacion'] == 0), 1, df_arriendos['piso_ubicacion'])\n",
    "\n",
    "#Si el piso de ubicación es mayor al número de pisos del edificio se reemplaza por el número de pisos del edificio\n",
    "df_arriendos['piso_ubicacion'] = np.where(df_arriendos['piso_ubicacion'] > df_arriendos['pisos_edificio'], df_arriendos['pisos_edificio'], df_arriendos['piso_ubicacion'])\n",
    "\n",
    "# Reemplazar en piso si es mayor a 100 tomar el primer numero (401 y 503 por 4, 5)\n",
    "df_arriendos['piso_ubicacion'] = df_arriendos['piso_ubicacion'].apply(lambda x: int(str(x)[0]) if x > 100 else x)\n",
    "df_arriendos['pisos_edificio'] = df_arriendos['pisos_edificio'].apply(lambda x: int(str(x)[0]) if x > 100 else x)\n"
   ]
  },
  {
   "cell_type": "code",
   "execution_count": null,
   "metadata": {},
   "outputs": [],
   "source": [
    "# Si el precio es menor a 5 millones y parqueaderos >= 5  y es apartamento entonces imputar por 2\n",
    "df_arriendos['parqueaderos'] = np.where((df_arriendos['precio'] < 5000000) & (df_arriendos['parqueaderos'] >= 5) & (df_arriendos['tipo_de_inmueble'] == 'Apartamento'), 2, df_arriendos['parqueaderos'])\n",
    "\n",
    "#Si precio mayor a 5 millones y parqueaderos >= 5 entonces 6 \n",
    "df_arriendos['parqueaderos'] = np.where((df_arriendos['precio'] >= 5000000) & (df_arriendos['parqueaderos'] > 5), 6, df_arriendos['parqueaderos'])"
   ]
  },
  {
   "cell_type": "code",
   "execution_count": null,
   "metadata": {},
   "outputs": [],
   "source": [
    "#Imputar con Modelos Predictivos (KNN Imputer)\n",
    "\n",
    "imputer = KNNImputer(n_neighbors=5)\n",
    "df_arriendos[['habitaciones', 'baños','estrato']] = imputer.fit_transform(df_arriendos[['habitaciones', 'baños','estrato']])\n",
    "df_arriendos[['habitaciones', 'baños','estrato']] = df_arriendos[['habitaciones', 'baños','estrato']].apply(np.floor).astype(int)"
   ]
  },
  {
   "cell_type": "code",
   "execution_count": null,
   "metadata": {},
   "outputs": [],
   "source": [
    "# Reemplazar estado vacias por estandar \n",
    "df_arriendos['estado'] = df_arriendos['estado'].fillna('Estandar')"
   ]
  },
  {
   "cell_type": "code",
   "execution_count": null,
   "metadata": {},
   "outputs": [],
   "source": [
    "# Para la fecha calcular los dias, meses desde publicado y actaulizado\n",
    "\n",
    "df_arriendos['fecha_actualizacion'] = pd.to_datetime(df_arriendos['fecha_actualizacion'])\n",
    "df_arriendos['dias_desde_actualizado'] = (datetime.now() - df_arriendos['fecha_actualizacion']).dt.days\n",
    "\n",
    "df_arriendos = df_arriendos.drop(columns=['fecha_publicacion', 'fecha_actualizacion'])"
   ]
  },
  {
   "cell_type": "code",
   "execution_count": null,
   "metadata": {},
   "outputs": [],
   "source": [
    "## Si no tiene administracion entonces 0\n",
    "df_arriendos['gastos_comunes'] = df_arriendos['gastos_comunes'].fillna(0)"
   ]
  },
  {
   "cell_type": "code",
   "execution_count": null,
   "metadata": {},
   "outputs": [],
   "source": [
    "# Filtramos si la ciudad esta en ciudades definidas\n",
    "ciudades = [\"Medellín\", \"Sabaneta\", \"Envigado\", \"Itagüí\", \"Bello\", \"La estrella\", \"Caldas\", \"Copacabana\", \"Girardota\", \"Barbosa\"]\n",
    "\n",
    "df_arriendos = df_arriendos[df_arriendos['ciudad'].isin(ciudades)]"
   ]
  },
  {
   "cell_type": "code",
   "execution_count": null,
   "metadata": {},
   "outputs": [],
   "source": [
    "# reemplazar facilidades vacias por lista ['No disponible']\n",
    "df_arriendos['facilidades'] = df_arriendos['facilidades'].fillna('No disponible')"
   ]
  },
  {
   "cell_type": "code",
   "execution_count": null,
   "metadata": {},
   "outputs": [],
   "source": [
    "def agrupar_caracteristicas(df, columna):\n",
    "    \"\"\"\n",
    "    Reduce la dimensionalidad de características del DataFrame agrupando términos similares en categorías más generales.\n",
    "    Genera nuevas columnas binarias para cada categoría (1 si al menos un elemento de la categoría está presente, 0 si no).\n",
    "    \"\"\"\n",
    "    categorias_agrupadas = {\n",
    "        \"Infraestructura y Accesibilidad\": [\"Acceso Pavimentado\", \"Cómodas vías de acceso\", \"Sobre vía principal\", \"Sobre vía secundaria\", \"Trans. Público cercano\"],\n",
    "        \"Parqueadero\": [\"Garaje\", \"Garaje Cubierto\", \"Parqueadero(s)\", \"Parqueadero Subterráneo\", \"Parqueadero Visitantes\", \"Parqueadero inteligente\", \"Bahía exterior de parqueo\"],\n",
    "        \"Seguridad\": [\"Alarma\", \"Alarma Contra Incendio\", \"Circuito cerrado de TV\", \"Control de acceso digital\", \"Reja de Seguridad\", \"Puerta de seguridad\", \"Vigilancia 24x7\", \"Seguridad\", \"Estación de Policía\", \"Guardia\"],\n",
    "        \"Ascensores\": [\"Ascensor\", \"Ascensores Comunales\", \"Ascensor(es) inteligente(s)\", \"Ascensor Privado\"],\n",
    "        \"Servicios Públicos\": [\"Alcantarillado\", \"Tanques de Agua\", \"Planta Eléctrica\", \"Shut de basura\"],\n",
    "        \"Tecnología y Conectividad\": [\"Disponibilidad WiFi\", \"Cableado de Red\", \"Detector de Metales\", \"Sensor de movimiento\", \"Edificio Inteligente\"],\n",
    "        \"Distribución\": [\"Balcones\", \"Terraza\", \"Patio\", \"Patio Interno\"],\n",
    "        \"Baños\": [\"Baño Auxiliar\", \"Baño de Servicio\", \"Baño Independiente\", \"Baño compartido\"],\n",
    "        \"Cocina\": [\"Cocina Equipada\", \"Cocina Integral\", \"Cocina tipo Americano\", \"Cocineta\", \"Barra estilo americano\"],\n",
    "        \"Zonas Sociales\": [\"Salón Comunal\", \"Salón de Juegos\", \"Salón de conferencias\", \"Salón de videoconferencias\", \"Gimnasio\"],\n",
    "        \"Otras Características\": [\"Chimenea\", \"Estudio\", \"Mezzanine\", \"Loft\", \"Duplex\"],\n",
    "        \"Zona Residencial\": [\"Zona Residencial\", \"En zona residencial\", \"Ubicada en edificio\", \"En conjunto cerrado\", \"En condominio\"],\n",
    "        \"Zona Comercial\": [\"Zona Comercial\", \"Cerca a sector comercial\", \"Pasaje Comercial\", \"En centro Comercial\", \"Locales comerciales\", \"Oficinas administrativas\"],\n",
    "        \"Zona Industrial\": [\"Zona Industrial\", \"Parque industrial\", \"Bodega\", \"Galpón\", \"Soporte de grúas\"],\n",
    "        \"Zona Campestre\": [\"Zona Campestre\", \"Área Rural\", \"Finca cafetera\", \"Nacimientos de agua\", \"Río / Quebrada cercano(a)\"],\n",
    "        \"Deportes\": [\"Cancha de Baloncesto\", \"Cancha de Futbol\", \"Cancha de Squash\", \"Cancha de Tennis\", \"Canchas Deportivas\"],\n",
    "        \"Piscina y Spa\": [\"Piscina\", \"Sauna / Turco / Jacuzzi\"],\n",
    "        \"Zonas Verdes\": [\"Jardines Exteriores\", \"Zonas Verdes\", \"Senderos ecológicos\", \"Árboles frutales\"],\n",
    "        \"BBQ y Entretenimiento\": [\"Zona de BBQ\", \"Kiosko\", \"Zona de Camping\", \"Zona de Hamacas\"],\n",
    "        \"Condiciones del Inmueble\": [\"Remodelado\", \"Para estrenar\", \"Amoblado\", \"Moderno\"],\n",
    "        \"Exclusividad y Lujo\": [\"Exclusivo\", \"Lujoso\", \"Premium\", \"Alta Gama\", \"Penthouse\"],\n",
    "        \"Vista Panorámica\": [\"Vista panorámica\", \"Hermosa vista\", \"Vista a la ciudad\", \"Vista a las montañas\"],\n",
    "        \"Confortabilidad\": [\"Espacioso\", \"Amplio\", \"Luminoso\", \"Acogedor\"],\n",
    "        \"Transporte\": [\"Proximo al metro\", \"Transporte público\", \"vías principales\",\"cerca del metro\", \"cercano al metro\", \"metroplus\", \"ruta integrada\", \"transporte publico\"]\n",
    "    }\n",
    "\n",
    "    # Convertir todas las categorías a minúsculas y sin acentos para mejorar la comparación\n",
    "    categorias_agrupadas = {\n",
    "        categoria: {unidecode.unidecode(item.lower()) for item in items}\n",
    "        for categoria, items in categorias_agrupadas.items()\n",
    "    }\n",
    "\n",
    "    # Asegurar que la columna de entrada sea una lista de valores en cada fila\n",
    "    df_arriendos['facilidades'] = df_arriendos['facilidades'].apply(lambda x: x if isinstance(x, list) else literal_eval(x))\n",
    "    df_arriendos['facilidades'] = df_arriendos['facilidades'].apply(lambda x: literal_eval(x) if isinstance(x, str) else x)\n",
    "    df_arriendos['facilidades'] = df_arriendos['facilidades'].apply(lambda x: x if isinstance(x, list) else [])\n",
    "    df_arriendos['facilidades'] = df_arriendos['facilidades'].apply(lambda x: [item for item in x if item is not None])\n",
    "\n",
    "  \n",
    "    # Crear una columna binaria por cada categoría\n",
    "    for categoria, elementos in categorias_agrupadas.items():\n",
    "        df[categoria] = df[columna].apply(lambda facilidades: 1 if any(unidecode.unidecode(item.lower()) in elementos for item in facilidades) else 0)\n",
    "    return df\n",
    "\n",
    "\n",
    "df_arriendos = agrupar_caracteristicas(df_arriendos, 'facilidades')\n"
   ]
  },
  {
   "cell_type": "code",
   "execution_count": null,
   "metadata": {},
   "outputs": [],
   "source": [
    "##Normalizar texto de la descripción\n",
    "\n",
    "def normalizar_texto(texto):\n",
    "    texto = texto.lower()  # Convertir a minúsculas\n",
    "    texto = unicodedata.normalize(\"NFKD\", texto).encode(\"ascii\", \"ignore\").decode(\"utf-8\")  # Eliminar tildes\n",
    "    texto = re.sub(r'[^\\w\\s]', '', texto)  # Eliminar signos de puntuación\n",
    "    return texto\n",
    "\n",
    "# Aplicamos normalización a la descripción\n",
    "df_arriendos[\"descripcion_normalizada\"] = df_arriendos[\"descripcion\"].apply(normalizar_texto)"
   ]
  },
  {
   "cell_type": "code",
   "execution_count": null,
   "metadata": {},
   "outputs": [],
   "source": [
    "\n",
    "# Diccionario de sinónimos y palabras clave\n",
    "sinonimos = {\n",
    "    \"Transporte 2\": [\"cerca del metro\", \"cercano al metro\", \"proximo al metro\", \"a pocos pasos del metro\", \"transporte publico\", \"via principal\", \"buses\"],\n",
    "    \"Exclusividad 2\": [\"exclusivo\", \"lujoso\", \"alta gama\", \"premium\", \"espectacular\", \"de lujo\", 'Penthouse'],\n",
    "    \"Seguridad 2\": [\"seguridad\", \"circuito cerrado\", \"estacion de policia\", \"guardia\", \"vigilancia\"],\n",
    "    \"Vista Panorámica 2\": [\"vista panoramica\", \"vista espectacular\", \"hermosa vista\", \"gran vista\"],\n",
    "    \"Confortabilidad 2\": [\"espacioso\", \"amplio\", \"hermoso\", \"luminoso\", \"acogedor\"]\n",
    "}\n",
    "\n",
    "# Lista de condiciones de la vivienda\n",
    "condiciones = ['remodelado', 'para estrenar', 'amoblado', 'moderno']\n",
    "\n",
    "# Función para detectar características\n",
    "def detectar_caracteristica(texto, palabras_clave):\n",
    "    texto = texto.lower()\n",
    "    return int(any(palabra in texto for palabra in palabras_clave))\n",
    "\n",
    "# Aplicar la detección de características\n",
    "\n",
    "for categoria, palabras in sinonimos.items():\n",
    "    df_arriendos[categoria] = df_arriendos['descripcion_normalizada'].apply(lambda x: detectar_caracteristica(x, palabras))\n",
    "\n",
    "for condicion in condiciones:\n",
    "    df_arriendos[condicion] = df_arriendos['descripcion_normalizada'].str.contains(condicion, case=False, na=False).astype(int)\n",
    "\n",
    "# Análisis de sentimiento\n",
    "df_arriendos['sentimiento'] = df_arriendos['descripcion_normalizada'].apply(lambda x: TextBlob(x).sentiment.polarity)\n",
    "\n",
    "\n",
    "df_arriendos.drop(columns=['descripcion', 'descripcion_normalizada'], inplace=True)"
   ]
  },
  {
   "cell_type": "code",
   "execution_count": null,
   "metadata": {},
   "outputs": [],
   "source": [
    "# Agrupación de Facilidades en Categorías\n",
    "\n",
    "# Ubicación y accesibilidad: Transporte, cerca de centros comerciales, zona comercial.\n",
    "# Seguridad: Vigilancia, circuito cerrado de TV, rejas de seguridad.\n",
    "# Amenidades y confort: Gimnasio, piscina, zona BBQ.\n",
    "# Condición del apartamento: Remodelado, para estrenar, amoblado.\n",
    "\n",
    "df_arriendos['Seguridad'] = df_arriendos[['Seguridad', 'Seguridad 2']].max(axis=1)\n",
    "df_arriendos['Transporte'] = df_arriendos[['Transporte', 'Transporte 2']].max(axis=1)\n",
    "df_arriendos['Vista Panorámica'] = df_arriendos[['Vista Panorámica', 'Vista Panorámica 2']].max(axis=1)\n",
    "df_arriendos['Exclusividad'] = df_arriendos[['Exclusividad y Lujo', 'Exclusividad 2']].max(axis=1)\n",
    "df_arriendos['Confortabilidad'] = df_arriendos[['Confortabilidad', 'Confortabilidad 2']].max(axis=1)\n",
    "df_arriendos['amenidades'] = df_arriendos[['remodelado', 'para estrenar', 'amoblado', 'moderno']].max(axis=1)\n",
    "\n",
    "# Eliminar las columnas originales\n",
    "df_arriendos.drop(columns=['Seguridad 2', 'Transporte 2', 'Vista Panorámica 2', 'Exclusividad 2', 'Confortabilidad 2',\n",
    "                           'remodelado', 'para estrenar', 'amoblado', 'moderno'], inplace=True)"
   ]
  },
  {
   "cell_type": "code",
   "execution_count": null,
   "metadata": {},
   "outputs": [],
   "source": [
    "categorias_agrupadas = [\n",
    "\"Infraestructura y Accesibilidad\", \n",
    "\"Parqueadero\", \n",
    "\"Seguridad\", \n",
    "\"Ascensores\",\n",
    "\"Servicios Públicos\",\n",
    "\"Tecnología y Conectividad\",\n",
    "\"Distribución\", \n",
    "\"Baños\", \n",
    "\"Cocina\",  \n",
    "\"Zonas Sociales\", \n",
    "\"Otras Características\", \n",
    "\"Zona Residencial\", \n",
    "\"Zona Comercial\", \n",
    "\"Zona Industrial\", \n",
    "\"Zona Campestre\", \n",
    "\"Deportes\",\n",
    "\"Piscina y Spa\", \n",
    "\"Zonas Verdes\", \n",
    "\"BBQ y Entretenimiento\", \n",
    "\"Condiciones del Inmueble\", \n",
    "\"Exclusividad y Lujo\", \n",
    "\"Vista Panorámica\", \n",
    "\"Confortabilidad\", \n",
    "\"Transporte\", \n",
    "]\n",
    "facilidades_encoded = df_arriendos[categorias_agrupadas]\n",
    "#quitar las columnas de facilidades\n",
    "df_arriendos  = df_arriendos.drop(columns=categorias_agrupadas)"
   ]
  },
  {
   "cell_type": "code",
   "execution_count": null,
   "metadata": {},
   "outputs": [],
   "source": [
    "# Análisis de Frecuencia de Facilidades\n",
    "\n",
    "# Filtrar facilidades con baja frecuencia (aparecen en menos del 1% de los registros)\n",
    "frecuencia = facilidades_encoded.mean()\n",
    "facilidades_filtradas = frecuencia[frecuencia > 0.01].index.tolist()\n",
    "df_filtrado = facilidades_encoded[facilidades_filtradas]\n",
    "\n",
    "# Unir al dataframe original\n",
    "df_arriendos = df_arriendos.drop(columns=['facilidades']).join(df_filtrado)"
   ]
  },
  {
   "cell_type": "code",
   "execution_count": null,
   "metadata": {},
   "outputs": [],
   "source": [
    "#Reestructurar columnas de df_arriendos\n",
    "df_arriendos.columns = (\n",
    "    df_arriendos.columns\n",
    "    .str.strip()  # Eliminar espacios en los extremos\n",
    "    .str.lower()  # Convertir a minúsculas\n",
    "    .to_list()  # Convertir el Index a una lista\n",
    ")\n",
    "\n",
    "#Ahora podemos aplicar unidecode a cada nombre de columna\n",
    "df_arriendos.columns = [unidecode.unidecode(col) for col in df_arriendos.columns]\n",
    "\n",
    "#Reemplazar caracteres no alfanuméricos\n",
    "df_arriendos.columns = df_arriendos.columns.str.replace(r'\\W+', '_', regex=True)"
   ]
  },
  {
   "cell_type": "code",
   "execution_count": null,
   "metadata": {},
   "outputs": [],
   "source": [
    "#Eliminar nulos\n",
    "df_arriendos = df_arriendos.dropna()\n",
    "\n",
    "#Eliminar duplicados\n",
    "df_arriendos = df_arriendos.drop_duplicates()\n",
    "\n",
    "# Guardar el archivo final\n",
    "df_arriendos.to_excel('../data/processed/data_arriendos_model.xlsx', index=False)"
   ]
  },
  {
   "cell_type": "markdown",
   "metadata": {},
   "source": [
    "## Conclusión\n",
    "\n",
    "Hemos limpiado los datos eliminando filas con valores nulos y convirtiendo tipos de datos. También hemos creado una nueva característica que puede ser útil para el modelado. Los datos procesados se han guardado para su uso en análisis posteriores."
   ]
  }
 ],
 "metadata": {
  "kernelspec": {
   "display_name": "Python 3",
   "language": "python",
   "name": "python3"
  },
  "language_info": {
   "codemirror_mode": {
    "name": "ipython",
    "version": 3
   },
   "file_extension": ".py",
   "mimetype": "text/x-python",
   "name": "python",
   "nbconvert_exporter": "python",
   "pygments_lexer": "ipython3",
   "version": "3.8.5"
  }
 },
 "nbformat": 4,
 "nbformat_minor": 4
}
